{
 "cells": [
  {
   "cell_type": "markdown",
   "id": "2f7f262a-b23b-4214-91e2-2ced6c84c420",
   "metadata": {},
   "source": [
    "# Train the classifiers for the different groups\n",
    "The notebook trains each classifer in a separate notebook. Otherwise, CUDA will be out of memory after some iterations."
   ]
  },
  {
   "cell_type": "code",
   "execution_count": null,
   "id": "e7cba787-2f43-4fb7-bf9d-f03533c092fe",
   "metadata": {},
   "outputs": [],
   "source": [
    "import os\n",
    "import subprocess\n",
    "import sys\n",
    "\n",
    "from tqdm.auto import tqdm\n",
    "\n",
    "os.environ[\"LD_LIBRARY_PATH\"] = \"/opt/conda/lib/\""
   ]
  },
  {
   "cell_type": "code",
   "execution_count": null,
   "id": "85f0a723-7bca-4926-aaa6-4caa811533ca",
   "metadata": {},
   "outputs": [],
   "source": [
    "parameters = {\n",
    "    \"wikipedia_1\": {\n",
    "        \"path\": \"../tmp/Wikipedia_Group_1_bias\",\n",
    "        \"labels\": [\"label\", \"label_0\", \"label_1\", \"label_2\"],\n",
    "    }\n",
    "}"
   ]
  },
  {
   "cell_type": "code",
   "execution_count": null,
   "id": "5af456e6-1923-4d96-bc83-9274ef1a827e",
   "metadata": {},
   "outputs": [],
   "source": [
    "path_logs = \"../tmp/logs/\"\n",
    "for dataset in tqdm(parameters.keys()):\n",
    "    for label in tqdm(parameters[dataset][\"labels\"]):\n",
    "        with open(path_logs + \"stdout.log\", \"a\") as fout:\n",
    "            with open(path_logs + \"log.log\", \"a\") as ferr:\n",
    "                proc = subprocess.call(\n",
    "                    [\n",
    "                        \"python\",\n",
    "                        \"./99_trainer.py\",\n",
    "                        \"-l\",\n",
    "                        label,\n",
    "                        \"-d\",\n",
    "                        dataset,\n",
    "                        \"-p\",\n",
    "                        parameters[dataset][\"path\"],\n",
    "                    ],\n",
    "                    stdout=fout,\n",
    "                    stderr=ferr,\n",
    "                )"
   ]
  }
 ],
 "metadata": {
  "environment": {
   "name": "common-cu110.m68",
   "type": "gcloud",
   "uri": "gcr.io/deeplearning-platform-release/base-cu110:m68"
  },
  "kernelspec": {
   "display_name": "Python [conda env:root] *",
   "language": "python",
   "name": "conda-root-py"
  },
  "language_info": {
   "codemirror_mode": {
    "name": "ipython",
    "version": 3
   },
   "file_extension": ".py",
   "mimetype": "text/x-python",
   "name": "python",
   "nbconvert_exporter": "python",
   "pygments_lexer": "ipython3",
   "version": "3.7.10"
  }
 },
 "nbformat": 4,
 "nbformat_minor": 5
}
