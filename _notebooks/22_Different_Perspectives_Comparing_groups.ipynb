{
 "cells": [
  {
   "cell_type": "code",
   "execution_count": 1,
   "id": "39e3abe5",
   "metadata": {},
   "outputs": [],
   "source": [
    "import re\n",
    "\n",
    "import datasets\n",
    "import numpy as np\n",
    "import pandas as pd\n",
    "import scipy as sp\n",
    "import sklearn.metrics as sm\n",
    "import torch\n",
    "import transformers\n",
    "from sklearn.metrics import f1_score\n",
    "from tqdm.notebook import tqdm\n",
    "from transformers import (\n",
    "    AutoModel,\n",
    "    AutoModelForSequenceClassification,\n",
    "    AutoTokenizer,\n",
    "    BertForSequenceClassification,\n",
    "    Trainer,\n",
    "    TrainingArguments,\n",
    ")\n",
    "\n",
    "device = torch.device(\"cuda\") if torch.cuda.is_available() else torch.device(\"cpu\")"
   ]
  },
  {
   "cell_type": "code",
   "execution_count": 2,
   "id": "c27fef30-3140-4bb7-9eb0-d8d00e86acf9",
   "metadata": {},
   "outputs": [],
   "source": [
    "parameters = {\n",
    "    \"wikipedia_1\": {\n",
    "        \"path\": \"../tmp/Wikipedia_Group_1_bias\",\n",
    "        \"labels\": [\"label\", \"label_0\", \"label_1\", \"label_2\"],\n",
    "    }\n",
    "}\n",
    "\n",
    "selected_dataset = \"wikipedia_1\""
   ]
  },
  {
   "cell_type": "code",
   "execution_count": 3,
   "id": "0d9a952d",
   "metadata": {},
   "outputs": [],
   "source": [
    "labels = parameters[selected_dataset][\"labels\"]\n",
    "dataset_name = selected_dataset\n",
    "path_testset = f\"{parameters[selected_dataset]['path']}_test.pkl\"\n",
    "\n",
    "MODEL_NAME = \"distilbert-base-uncased\"\n",
    "tokenizer = AutoTokenizer.from_pretrained(MODEL_NAME)"
   ]
  },
  {
   "cell_type": "code",
   "execution_count": 4,
   "id": "944d3f6e-f843-41ef-8c15-458dfa7f026a",
   "metadata": {},
   "outputs": [],
   "source": [
    "batch_size = 16\n",
    "\n",
    "\n",
    "def chunks(lst, n):\n",
    "    for i in range(0, len(lst), n):\n",
    "        yield lst[i : i + n]\n",
    "\n",
    "\n",
    "def predict(x):\n",
    "    val = []\n",
    "    batches = list(chunks(x, batch_size))\n",
    "    for batch in tqdm(batches):\n",
    "        # cleaned_text = preprocess(record)\n",
    "        inputs = tokenizer(\n",
    "            batch, truncation=True, padding=True, return_tensors=\"pt\"\n",
    "        ).to(device)\n",
    "        outputs = model(**inputs)\n",
    "        m = torch.nn.Softmax(dim=1).cuda()\n",
    "        # softmax the logits\n",
    "        softmaxed = m(outputs.logits).detach().cpu().numpy()\n",
    "        # get the probaility for the positive class (hate)\n",
    "        prediction = [1 if x[1] >= 0.5 else 0 for x in softmaxed]\n",
    "        val.extend(prediction)\n",
    "    return np.array(val)"
   ]
  },
  {
   "cell_type": "code",
   "execution_count": 5,
   "id": "33441dea",
   "metadata": {},
   "outputs": [
    {
     "data": {
      "application/vnd.jupyter.widget-view+json": {
       "model_id": "6322fbeeb6de4cc8a2ecdca3af00cedf",
       "version_major": 2,
       "version_minor": 0
      },
      "text/plain": [
       "HBox(children=(FloatProgress(value=0.0, max=4.0), HTML(value='')))"
      ]
     },
     "metadata": {},
     "output_type": "display_data"
    },
    {
     "name": "stdout",
     "output_type": "stream",
     "text": [
      "label\n"
     ]
    },
    {
     "data": {
      "application/vnd.jupyter.widget-view+json": {
       "model_id": "50e6c8a7b716473fac83b3224a0d9fba",
       "version_major": 2,
       "version_minor": 0
      },
      "text/plain": [
       "HBox(children=(FloatProgress(value=0.0, max=4.0), HTML(value='')))"
      ]
     },
     "metadata": {},
     "output_type": "display_data"
    },
    {
     "data": {
      "application/vnd.jupyter.widget-view+json": {
       "model_id": "8f450f43758544b5abafbd12eea5affe",
       "version_major": 2,
       "version_minor": 0
      },
      "text/plain": [
       "HBox(children=(FloatProgress(value=0.0, max=1126.0), HTML(value='')))"
      ]
     },
     "metadata": {},
     "output_type": "display_data"
    },
    {
     "name": "stdout",
     "output_type": "stream",
     "text": [
      "\n",
      "\t label : 0.7814235234729935\n"
     ]
    },
    {
     "data": {
      "application/vnd.jupyter.widget-view+json": {
       "model_id": "a49667d406964cd48efbdb53e33b77cd",
       "version_major": 2,
       "version_minor": 0
      },
      "text/plain": [
       "HBox(children=(FloatProgress(value=0.0, max=1126.0), HTML(value='')))"
      ]
     },
     "metadata": {},
     "output_type": "display_data"
    },
    {
     "name": "stdout",
     "output_type": "stream",
     "text": [
      "\n",
      "\t label_0 : 0.49171350338665504\n"
     ]
    },
    {
     "data": {
      "application/vnd.jupyter.widget-view+json": {
       "model_id": "72f0ef8c220e44708b5d54974d2a7c0e",
       "version_major": 2,
       "version_minor": 0
      },
      "text/plain": [
       "HBox(children=(FloatProgress(value=0.0, max=1126.0), HTML(value='')))"
      ]
     },
     "metadata": {},
     "output_type": "display_data"
    },
    {
     "name": "stdout",
     "output_type": "stream",
     "text": [
      "\n",
      "\t label_1 : 0.6300763972657821\n"
     ]
    },
    {
     "data": {
      "application/vnd.jupyter.widget-view+json": {
       "model_id": "2dd374f66bf848afba290eb000328558",
       "version_major": 2,
       "version_minor": 0
      },
      "text/plain": [
       "HBox(children=(FloatProgress(value=0.0, max=1126.0), HTML(value='')))"
      ]
     },
     "metadata": {},
     "output_type": "display_data"
    },
    {
     "name": "stdout",
     "output_type": "stream",
     "text": [
      "\n",
      "\t label_2 : 0.7766513056835637\n",
      "\n",
      "label_0\n"
     ]
    },
    {
     "data": {
      "application/vnd.jupyter.widget-view+json": {
       "model_id": "cc805d3ec9fb409d80e65c690b80c68b",
       "version_major": 2,
       "version_minor": 0
      },
      "text/plain": [
       "HBox(children=(FloatProgress(value=0.0, max=4.0), HTML(value='')))"
      ]
     },
     "metadata": {},
     "output_type": "display_data"
    },
    {
     "data": {
      "application/vnd.jupyter.widget-view+json": {
       "model_id": "31a4efe1785b45d3932e6313b0705fa6",
       "version_major": 2,
       "version_minor": 0
      },
      "text/plain": [
       "HBox(children=(FloatProgress(value=0.0, max=1126.0), HTML(value='')))"
      ]
     },
     "metadata": {},
     "output_type": "display_data"
    },
    {
     "name": "stdout",
     "output_type": "stream",
     "text": [
      "\n",
      "\n",
      "\n"
     ]
    },
    {
     "ename": "KeyboardInterrupt",
     "evalue": "",
     "output_type": "error",
     "traceback": [
      "\u001b[0;31m---------------------------------------------------------------------------\u001b[0m",
      "\u001b[0;31mKeyboardInterrupt\u001b[0m                         Traceback (most recent call last)",
      "\u001b[0;32m<ipython-input-5-5fe398c6b1d2>\u001b[0m in \u001b[0;36m<module>\u001b[0;34m\u001b[0m\n\u001b[1;32m      8\u001b[0m     \u001b[0;32mfor\u001b[0m \u001b[0mtest_dataset\u001b[0m \u001b[0;32min\u001b[0m \u001b[0mtqdm\u001b[0m\u001b[0;34m(\u001b[0m\u001b[0mlabels\u001b[0m\u001b[0;34m)\u001b[0m\u001b[0;34m:\u001b[0m\u001b[0;34m\u001b[0m\u001b[0;34m\u001b[0m\u001b[0m\n\u001b[1;32m      9\u001b[0m         \u001b[0mdf_test\u001b[0m \u001b[0;34m=\u001b[0m \u001b[0mpd\u001b[0m\u001b[0;34m.\u001b[0m\u001b[0mread_pickle\u001b[0m\u001b[0;34m(\u001b[0m\u001b[0mpath_testset\u001b[0m\u001b[0;34m)\u001b[0m\u001b[0;34m\u001b[0m\u001b[0;34m\u001b[0m\u001b[0m\n\u001b[0;32m---> 10\u001b[0;31m         \u001b[0mpredictions\u001b[0m \u001b[0;34m=\u001b[0m \u001b[0mpredict\u001b[0m\u001b[0;34m(\u001b[0m\u001b[0mdf_test\u001b[0m\u001b[0;34m[\u001b[0m\u001b[0;34m\"text\"\u001b[0m\u001b[0;34m]\u001b[0m\u001b[0;34m.\u001b[0m\u001b[0mto_list\u001b[0m\u001b[0;34m(\u001b[0m\u001b[0;34m)\u001b[0m\u001b[0;34m)\u001b[0m\u001b[0;34m\u001b[0m\u001b[0;34m\u001b[0m\u001b[0m\n\u001b[0m\u001b[1;32m     11\u001b[0m         \u001b[0mgold_label\u001b[0m \u001b[0;34m=\u001b[0m \u001b[0mdf_test\u001b[0m\u001b[0;34m[\u001b[0m\u001b[0mtest_dataset\u001b[0m\u001b[0;34m]\u001b[0m\u001b[0;34m.\u001b[0m\u001b[0mto_list\u001b[0m\u001b[0;34m(\u001b[0m\u001b[0;34m)\u001b[0m\u001b[0;34m\u001b[0m\u001b[0;34m\u001b[0m\u001b[0m\n\u001b[1;32m     12\u001b[0m         \u001b[0mrow\u001b[0m\u001b[0;34m.\u001b[0m\u001b[0mappend\u001b[0m\u001b[0;34m(\u001b[0m\u001b[0;34m[\u001b[0m\u001b[0mgold_label\u001b[0m\u001b[0;34m,\u001b[0m \u001b[0mpredictions\u001b[0m\u001b[0;34m]\u001b[0m\u001b[0;34m)\u001b[0m\u001b[0;34m\u001b[0m\u001b[0;34m\u001b[0m\u001b[0m\n",
      "\u001b[0;32m<ipython-input-4-a9e748f9ff64>\u001b[0m in \u001b[0;36mpredict\u001b[0;34m(x)\u001b[0m\n\u001b[1;32m     18\u001b[0m         \u001b[0mm\u001b[0m \u001b[0;34m=\u001b[0m \u001b[0mtorch\u001b[0m\u001b[0;34m.\u001b[0m\u001b[0mnn\u001b[0m\u001b[0;34m.\u001b[0m\u001b[0mSoftmax\u001b[0m\u001b[0;34m(\u001b[0m\u001b[0mdim\u001b[0m\u001b[0;34m=\u001b[0m\u001b[0;36m1\u001b[0m\u001b[0;34m)\u001b[0m\u001b[0;34m.\u001b[0m\u001b[0mcuda\u001b[0m\u001b[0;34m(\u001b[0m\u001b[0;34m)\u001b[0m\u001b[0;34m\u001b[0m\u001b[0;34m\u001b[0m\u001b[0m\n\u001b[1;32m     19\u001b[0m         \u001b[0;31m# softmax the logits\u001b[0m\u001b[0;34m\u001b[0m\u001b[0;34m\u001b[0m\u001b[0;34m\u001b[0m\u001b[0m\n\u001b[0;32m---> 20\u001b[0;31m         \u001b[0msoftmaxed\u001b[0m \u001b[0;34m=\u001b[0m \u001b[0mm\u001b[0m\u001b[0;34m(\u001b[0m\u001b[0moutputs\u001b[0m\u001b[0;34m.\u001b[0m\u001b[0mlogits\u001b[0m\u001b[0;34m)\u001b[0m\u001b[0;34m.\u001b[0m\u001b[0mdetach\u001b[0m\u001b[0;34m(\u001b[0m\u001b[0;34m)\u001b[0m\u001b[0;34m.\u001b[0m\u001b[0mcpu\u001b[0m\u001b[0;34m(\u001b[0m\u001b[0;34m)\u001b[0m\u001b[0;34m.\u001b[0m\u001b[0mnumpy\u001b[0m\u001b[0;34m(\u001b[0m\u001b[0;34m)\u001b[0m\u001b[0;34m\u001b[0m\u001b[0;34m\u001b[0m\u001b[0m\n\u001b[0m\u001b[1;32m     21\u001b[0m         \u001b[0;31m# get the probaility for the positive class (hate)\u001b[0m\u001b[0;34m\u001b[0m\u001b[0;34m\u001b[0m\u001b[0;34m\u001b[0m\u001b[0m\n\u001b[1;32m     22\u001b[0m         \u001b[0mprediction\u001b[0m \u001b[0;34m=\u001b[0m \u001b[0;34m[\u001b[0m\u001b[0;36m1\u001b[0m \u001b[0;32mif\u001b[0m \u001b[0mx\u001b[0m\u001b[0;34m[\u001b[0m\u001b[0;36m1\u001b[0m\u001b[0;34m]\u001b[0m \u001b[0;34m>=\u001b[0m \u001b[0;36m0.5\u001b[0m \u001b[0;32melse\u001b[0m \u001b[0;36m0\u001b[0m \u001b[0;32mfor\u001b[0m \u001b[0mx\u001b[0m \u001b[0;32min\u001b[0m \u001b[0msoftmaxed\u001b[0m\u001b[0;34m]\u001b[0m\u001b[0;34m\u001b[0m\u001b[0;34m\u001b[0m\u001b[0m\n",
      "\u001b[0;31mKeyboardInterrupt\u001b[0m: "
     ]
    }
   ],
   "source": [
    "results = []\n",
    "for selected_dataset in tqdm(labels):\n",
    "    print(selected_dataset)\n",
    "    row = []\n",
    "    model = AutoModelForSequenceClassification.from_pretrained(\n",
    "        f\"../tmp/models/{dataset_name}/{selected_dataset}/\"\n",
    "    ).to(device)\n",
    "    for test_dataset in tqdm(labels):\n",
    "        df_test = pd.read_pickle(path_testset)\n",
    "        predictions = predict(df_test[\"text\"].to_list())\n",
    "        gold_label = df_test[test_dataset].to_list()\n",
    "        row.append([gold_label, predictions])\n",
    "        print(\"\\t\", test_dataset, \":\", f1_score(gold_label, predictions))\n",
    "    results.append(row)"
   ]
  },
  {
   "cell_type": "code",
   "execution_count": null,
   "id": "abf8b57c",
   "metadata": {},
   "outputs": [],
   "source": [
    "print(\"Performance of COVID-19 classifier\")\n",
    "print(sm.precision_recall_fscore_support(results[0][0][0], results[0][0][1]))\n",
    "print(\n",
    "    sm.precision_recall_fscore_support(\n",
    "        results[0][0][0], results[0][0][1], average=\"macro\"\n",
    "    )\n",
    ")"
   ]
  },
  {
   "cell_type": "code",
   "execution_count": null,
   "id": "3fe19c14",
   "metadata": {},
   "outputs": [],
   "source": [
    "print(\"Performance of GermEval 2018 classifier\")\n",
    "print(sm.precision_recall_fscore_support(results[1][1][0], results[1][1][1]))\n",
    "print(\n",
    "    sm.precision_recall_fscore_support(\n",
    "        results[1][1][0], results[1][1][1], average=\"macro\"\n",
    "    )\n",
    ")"
   ]
  },
  {
   "cell_type": "code",
   "execution_count": 14,
   "id": "def71892",
   "metadata": {},
   "outputs": [],
   "source": [
    "scores = []\n",
    "for i in range(len(results)):\n",
    "    row = []\n",
    "    for j in range(len(results)):\n",
    "        row.append(f1_score(results[i][j][0], results[i][j][1], average=\"macro\"))\n",
    "    scores.append(row)"
   ]
  },
  {
   "cell_type": "code",
   "execution_count": 15,
   "id": "e646ab99",
   "metadata": {},
   "outputs": [],
   "source": [
    "norm = np.array(scores) * 100\n",
    "labels_p = labels\n",
    "labels_p = [\"Baseline\", \"M I\", \"O\", \"P\", \"M II\"]\n",
    "labels_p = [\"Baseline\", \"Pessimistic\", \"Medium\", \"Optimistic\"]\n",
    "df_latex = pd.DataFrame(data=norm, index=labels_p, columns=labels_p)\n",
    "# df_latex = df_latex.drop(columns=['Baseline'])\n",
    "# df_latex = df_latex.drop(['Baseline'])"
   ]
  },
  {
   "cell_type": "code",
   "execution_count": 16,
   "id": "bd6216a1",
   "metadata": {},
   "outputs": [
    {
     "name": "stdout",
     "output_type": "stream",
     "text": [
      "\\begin{tabular}{lrrrr}\n",
      "\\toprule\n",
      "{} &  Baseline &  Pessimistic &  Medium &  Optimistic \\\\\n",
      "\\midrule\n",
      "Baseline    &      87.7 &         68.5 &    78.5 &        87.7 \\\\\n",
      "Pessimistic &      78.8 &         80.2 &    80.6 &        71.0 \\\\\n",
      "Medium      &      87.6 &         73.5 &    81.9 &        83.1 \\\\\n",
      "Optimistic  &      84.6 &         64.3 &    74.4 &        87.5 \\\\\n",
      "\\bottomrule\n",
      "\\end{tabular}\n",
      "\n"
     ]
    }
   ],
   "source": [
    "print(df_latex.to_latex(float_format=\"{:0.1f}\".format))"
   ]
  },
  {
   "cell_type": "code",
   "execution_count": 17,
   "id": "ddf782d3-d9d3-4b8a-bc6d-608a1d1b16b1",
   "metadata": {},
   "outputs": [
    {
     "data": {
      "text/html": [
       "<div>\n",
       "<style scoped>\n",
       "    .dataframe tbody tr th:only-of-type {\n",
       "        vertical-align: middle;\n",
       "    }\n",
       "\n",
       "    .dataframe tbody tr th {\n",
       "        vertical-align: top;\n",
       "    }\n",
       "\n",
       "    .dataframe thead th {\n",
       "        text-align: right;\n",
       "    }\n",
       "</style>\n",
       "<table border=\"1\" class=\"dataframe\">\n",
       "  <thead>\n",
       "    <tr style=\"text-align: right;\">\n",
       "      <th></th>\n",
       "      <th>Baseline</th>\n",
       "      <th>Pessimistic</th>\n",
       "      <th>Medium</th>\n",
       "      <th>Optimistic</th>\n",
       "    </tr>\n",
       "  </thead>\n",
       "  <tbody>\n",
       "    <tr>\n",
       "      <th>Baseline</th>\n",
       "      <td>87.719993</td>\n",
       "      <td>68.519075</td>\n",
       "      <td>78.539329</td>\n",
       "      <td>87.722743</td>\n",
       "    </tr>\n",
       "    <tr>\n",
       "      <th>Pessimistic</th>\n",
       "      <td>78.755166</td>\n",
       "      <td>80.155828</td>\n",
       "      <td>80.633168</td>\n",
       "      <td>70.993525</td>\n",
       "    </tr>\n",
       "    <tr>\n",
       "      <th>Medium</th>\n",
       "      <td>87.644753</td>\n",
       "      <td>73.527809</td>\n",
       "      <td>81.930911</td>\n",
       "      <td>83.077680</td>\n",
       "    </tr>\n",
       "    <tr>\n",
       "      <th>Optimistic</th>\n",
       "      <td>84.642665</td>\n",
       "      <td>64.304939</td>\n",
       "      <td>74.442638</td>\n",
       "      <td>87.529714</td>\n",
       "    </tr>\n",
       "  </tbody>\n",
       "</table>\n",
       "</div>"
      ],
      "text/plain": [
       "              Baseline  Pessimistic     Medium  Optimistic\n",
       "Baseline     87.719993    68.519075  78.539329   87.722743\n",
       "Pessimistic  78.755166    80.155828  80.633168   70.993525\n",
       "Medium       87.644753    73.527809  81.930911   83.077680\n",
       "Optimistic   84.642665    64.304939  74.442638   87.529714"
      ]
     },
     "execution_count": 17,
     "metadata": {},
     "output_type": "execute_result"
    }
   ],
   "source": [
    "df_latex"
   ]
  }
 ],
 "metadata": {
  "environment": {
   "name": "common-cu110.m68",
   "type": "gcloud",
   "uri": "gcr.io/deeplearning-platform-release/base-cu110:m68"
  },
  "kernelspec": {
   "display_name": "Python [conda env:root] *",
   "language": "python",
   "name": "conda-root-py"
  },
  "language_info": {
   "codemirror_mode": {
    "name": "ipython",
    "version": 3
   },
   "file_extension": ".py",
   "mimetype": "text/x-python",
   "name": "python",
   "nbconvert_exporter": "python",
   "pygments_lexer": "ipython3",
   "version": "3.7.10"
  }
 },
 "nbformat": 4,
 "nbformat_minor": 5
}
