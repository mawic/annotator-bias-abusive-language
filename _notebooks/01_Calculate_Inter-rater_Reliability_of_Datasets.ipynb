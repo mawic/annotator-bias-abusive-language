{
 "cells": [
  {
   "cell_type": "markdown",
   "id": "b094b098-4f78-42bb-91ad-e8f75c0da126",
   "metadata": {},
   "source": [
    "# Calculate the inter-rater reliability scores for the selected datasets"
   ]
  },
  {
   "cell_type": "code",
   "execution_count": 1,
   "id": "9ff7ad84-ea3b-4d7f-8340-de167c61608e",
   "metadata": {},
   "outputs": [],
   "source": [
    "import statistics\n",
    "import sys\n",
    "\n",
    "sys.path.append(\"../\")\n",
    "import copy\n",
    "\n",
    "import matplotlib.lines as mlines\n",
    "import matplotlib.pyplot as plt\n",
    "import numpy as np\n",
    "import pandas as pd\n",
    "import seaborn as sns\n",
    "import src.data.prepare_data as prepdata\n",
    "from nltk.metrics import binary_distance, interval_distance\n",
    "from nltk.metrics.agreement import AnnotationTask\n",
    "from src.data.data_loader import (\n",
    "    EastAsianPrejudiceDataset,\n",
    "    MisogynyDataset,\n",
    "    RedditDataset,\n",
    "    WikipediaDataset,\n",
    ")\n",
    "from tqdm.notebook import tqdm"
   ]
  },
  {
   "cell_type": "markdown",
   "id": "cd2d3b4d-9167-4a04-a8a9-2b4b2bcd04ca",
   "metadata": {},
   "source": [
    "# Load datasets"
   ]
  },
  {
   "cell_type": "code",
   "execution_count": 2,
   "id": "e7ad6542-5b68-4c8c-9060-2c2b962f1097",
   "metadata": {},
   "outputs": [
    {
     "name": "stdout",
     "output_type": "stream",
     "text": [
      "Loaded data\n",
      "----------------------------------\n",
      "115864 comments\n",
      "4053 annotators\n",
      "2 classes: [0.0, 1.0]\n",
      "----------------------------------\n",
      "Running majority voting\n",
      "Completed majority_voting in 0:00:01.322031 seconds\n",
      "\n"
     ]
    }
   ],
   "source": [
    "(\n",
    "    cm_ea,\n",
    "    gl_ea,\n",
    "    aw_ea,\n",
    "    al_ea,\n",
    ") = prepdata.get_annotator_and_gold_labels_EastAsian()\n",
    "\n",
    "(\n",
    "    cm_re,\n",
    "    gl_re,\n",
    "    aw_re,\n",
    "    al_re,\n",
    ") = prepdata.get_annotator_and_gold_labels_Reddit()\n",
    "\n",
    "(\n",
    "    cm_mi,\n",
    "    gl_mi,\n",
    "    aw_mi,\n",
    "    al_mi,\n",
    ") = prepdata.get_annotator_and_gold_labels_Misogyny()\n",
    "\n",
    "(\n",
    "    cm_wiki,\n",
    "    gl_wiki,\n",
    "    aw_wiki,\n",
    "    al_wiki,\n",
    ") = prepdata.get_annotator_and_gold_labels_Wikipedia()"
   ]
  },
  {
   "cell_type": "markdown",
   "id": "ec845e54-bfc9-4629-8f6b-1e6c889ab754",
   "metadata": {},
   "source": [
    "## Define function for calculating Krippendorff's alpha"
   ]
  },
  {
   "cell_type": "code",
   "execution_count": 3,
   "id": "5cfcf201-eec8-4a3e-8808-22b472cf42af",
   "metadata": {},
   "outputs": [],
   "source": [
    "def getKrippendorffsAlphaIndividuals(annotator_labels_long, gold_labels):\n",
    "    annotator_ids = list(set(annotator_labels_long[\"annotator\"].to_list()))\n",
    "    annotator_ids_2 = []\n",
    "    annotators_scores = []\n",
    "\n",
    "    triples_gold = []\n",
    "    for index, row in gold_labels.iterrows():\n",
    "        triple = (\"gold\", row[\"id\"], row[\"label\"])\n",
    "        triples_gold.append(triple)\n",
    "\n",
    "    for annotator in tqdm(annotator_ids):\n",
    "        try:\n",
    "            annotation_triples = copy.deepcopy(triples_gold)\n",
    "            for index, row in annotator_labels_long[\n",
    "                annotator_labels_long[\"annotator\"] == annotator\n",
    "            ].iterrows():\n",
    "                triple = (annotator, row[\"id\"], row[\"label\"])\n",
    "                annotation_triples.append(triple)\n",
    "            t = AnnotationTask(annotation_triples, distance=binary_distance)\n",
    "            annotators_scores.append(t.alpha())\n",
    "            annotator_ids_2.append(annotator)\n",
    "        except:\n",
    "            pass\n",
    "    return annotator_ids_2, annotators_scores\n",
    "\n",
    "\n",
    "def getKrippendorffsAlphaOverall(annotator_labels_long):\n",
    "    annotation_triples = []\n",
    "    for index, row in annotator_labels_long.iterrows():\n",
    "        triple = (row[\"annotator\"], row[\"id\"], row[\"label\"])\n",
    "        annotation_triples.append(triple)\n",
    "    t = AnnotationTask(annotation_triples, distance=binary_distance)\n",
    "    return t.alpha()"
   ]
  },
  {
   "cell_type": "markdown",
   "id": "2e385c58-f764-43d1-ad3e-3e9cf299a1c3",
   "metadata": {},
   "source": [
    "## Calculate scores\n",
    "This can take a while because the Wikipedia dataset has many annotators"
   ]
  },
  {
   "cell_type": "code",
   "execution_count": 4,
   "id": "7f83e9d7-d28b-4d88-96b6-0a9ece5a3249",
   "metadata": {},
   "outputs": [
    {
     "data": {
      "application/vnd.jupyter.widget-view+json": {
       "model_id": "9ccec0c2f78a417e9820142266ceeb7c",
       "version_major": 2,
       "version_minor": 0
      },
      "text/plain": [
       "HBox(children=(FloatProgress(value=0.0, max=26.0), HTML(value='')))"
      ]
     },
     "metadata": {},
     "output_type": "display_data"
    },
    {
     "name": "stdout",
     "output_type": "stream",
     "text": [
      "\n"
     ]
    },
    {
     "data": {
      "application/vnd.jupyter.widget-view+json": {
       "model_id": "0a3083beb90a45a5b7a0a689288606e1",
       "version_major": 2,
       "version_minor": 0
      },
      "text/plain": [
       "HBox(children=(FloatProgress(value=0.0, max=20.0), HTML(value='')))"
      ]
     },
     "metadata": {},
     "output_type": "display_data"
    },
    {
     "name": "stdout",
     "output_type": "stream",
     "text": [
      "\n"
     ]
    },
    {
     "data": {
      "application/vnd.jupyter.widget-view+json": {
       "model_id": "2ef00c3ef28e412b874f2ed86c11fa8b",
       "version_major": 2,
       "version_minor": 0
      },
      "text/plain": [
       "HBox(children=(FloatProgress(value=0.0, max=6.0), HTML(value='')))"
      ]
     },
     "metadata": {},
     "output_type": "display_data"
    },
    {
     "name": "stdout",
     "output_type": "stream",
     "text": [
      "\n"
     ]
    },
    {
     "data": {
      "application/vnd.jupyter.widget-view+json": {
       "model_id": "0d7f40f47d9b4df198763825a0df3ed9",
       "version_major": 2,
       "version_minor": 0
      },
      "text/plain": [
       "HBox(children=(FloatProgress(value=0.0, max=4053.0), HTML(value='')))"
      ]
     },
     "metadata": {},
     "output_type": "display_data"
    },
    {
     "name": "stdout",
     "output_type": "stream",
     "text": [
      "\n"
     ]
    }
   ],
   "source": [
    "ids_ea, scores_ea = getKrippendorffsAlphaIndividuals(al_ea, gl_ea)\n",
    "ids_re, scores_re = getKrippendorffsAlphaIndividuals(al_re, gl_re)\n",
    "ids_mi, scores_mi = getKrippendorffsAlphaIndividuals(al_mi, gl_mi)\n",
    "ids_wiki, scores_wiki = getKrippendorffsAlphaIndividuals(al_wiki, gl_wiki)\n",
    "\n",
    "ka_ea = getKrippendorffsAlphaOverall(al_ea)\n",
    "ka_re = getKrippendorffsAlphaOverall(al_re)\n",
    "ka_mi = getKrippendorffsAlphaOverall(al_mi)\n",
    "ka_wiki = getKrippendorffsAlphaOverall(al_wiki)\n",
    "\n"
   ]
  },
  {
   "cell_type": "markdown",
   "id": "d441db21-6456-4c5f-b006-b9cfd9514f61",
   "metadata": {},
   "source": [
    "## Merge scores in one dataframe"
   ]
  },
  {
   "cell_type": "code",
   "execution_count": 5,
   "id": "a8feba1e-efdd-486c-ab0d-e5f9b4c48609",
   "metadata": {},
   "outputs": [],
   "source": [
    "dataset_names = [\"Vidgen\",\"Guest\", \"Kurrek\", \"Wulczyn\"]\n",
    "list_for_df = []\n",
    "for i, scores in zip(dataset_names, [scores_ea, scores_mi,scores_re, scores_wiki]):\n",
    "    for score in scores:\n",
    "        list_for_df.append([i, score])\n",
    "df_ira_scores = pd.DataFrame(list_for_df, columns=[\"Dataset\", \"Krippendorf's alpha\"])\n",
    "\n",
    "\n",
    "list_for_df = []\n",
    "for i, score in zip(dataset_names, [ka_ea, ka_mi,ka_re, ka_wiki]):\n",
    "    list_for_df.append([i, score])\n",
    "df_overall_scores = pd.DataFrame(\n",
    "    list_for_df, columns=[\"Dataset\", \"Krippendorf's alpha\"]\n",
    ")"
   ]
  },
  {
   "cell_type": "markdown",
   "id": "54db631a-f727-4fb2-8c4e-7e6ebfd31bd2",
   "metadata": {},
   "source": [
    "## Plot the scores"
   ]
  },
  {
   "cell_type": "code",
   "execution_count": 6,
   "id": "5d17ce22-6067-4e1e-948b-c995f83307ab",
   "metadata": {},
   "outputs": [
    {
     "data": {
      "image/png": "[encoded data removed]",
      "text/plain": [
       "<Figure size 432x288 with 1 Axes>"
      ]
     },
     "metadata": {},
     "output_type": "display_data"
    }
   ],
   "source": [
    "fig = plt.figure(figsize=(6, 4))\n",
    "ax = sns.boxplot(\n",
    "    x=\"Dataset\",\n",
    "    y=\"Krippendorf's alpha\",\n",
    "    data=df_ira_scores,\n",
    ")\n",
    "ax2 = sns.stripplot(\n",
    "    x=\"Dataset\",\n",
    "    y=\"Krippendorf's alpha\",\n",
    "    data=df_overall_scores,\n",
    "    jitter=0,\n",
    "    linewidth=1,\n",
    "    marker=\"o\",\n",
    "    size=7,\n",
    ")\n",
    "\n",
    "\n",
    "outlier = mlines.Line2D(\n",
    "    [], [], color=\"black\", marker=\"d\", linestyle=\"None\", markersize=5, label=\"_\"\n",
    ")\n",
    "overall = mlines.Line2D(\n",
    "    [], [], color=\"black\", marker=\"o\", linestyle=\"None\", markersize=5, label=\"_\"\n",
    ")\n",
    "plt.legend(\n",
    "    handles=[outlier, overall],\n",
    "    loc=\"lower left\",\n",
    "    labels=[\"Outlier\", \"Overall Krippendorff's alpha\"],\n",
    "    fontsize=\"x-small\",\n",
    ")\n",
    "\n",
    "plt.show()\n",
    "fig.savefig('../outputs/krippendorffs_alpha.pdf', dpi=300, bbox_inches='tight')"
   ]
  }
 ],
 "metadata": {
  "environment": {
   "name": "common-cu110.m68",
   "type": "gcloud",
   "uri": "gcr.io/deeplearning-platform-release/base-cu110:m68"
  },
  "kernelspec": {
   "display_name": "Python [conda env:root] *",
   "language": "python",
   "name": "conda-root-py"
  },
  "language_info": {
   "codemirror_mode": {
    "name": "ipython",
    "version": 3
   },
   "file_extension": ".py",
   "mimetype": "text/x-python",
   "name": "python",
   "nbconvert_exporter": "python",
   "pygments_lexer": "ipython3",
   "version": "3.7.10"
  }
 },
 "nbformat": 4,
 "nbformat_minor": 5
}
